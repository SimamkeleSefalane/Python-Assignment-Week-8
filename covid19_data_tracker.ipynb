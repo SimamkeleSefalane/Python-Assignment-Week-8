{
 "cells": [
  {
   "cell_type": "markdown",
   "id": "b8f5090a",
   "metadata": {},
   "source": [
    "# 🦠 COVID-19 Global Data Tracker\n",
    "**Python Data Analysis Project**\n",
    "\n",
    "This notebook analyzes global COVID-19 trends using data from Our World in Data. We will explore cases, deaths, and vaccination trends using Python libraries such as pandas, matplotlib, seaborn, and plotly."
   ]
  },
  {
   "cell_type": "markdown",
   "id": "8164f567",
   "metadata": {},
   "source": [
    "## 🔹 Load Dataset"
   ]
  },
  {
   "cell_type": "code",
   "execution_count": 23,
   "id": "f3f9adfc-548f-4050-a699-328a74f64bfc",
   "metadata": {},
   "outputs": [],
   "source": [
    "import pandas as pd\n",
    "import matplotlib.pyplot as plt\n",
    "import seaborn as sns\n",
    "import plotly.express as px\n",
    "import geopandas as gpd"
   ]
  },
  {
   "cell_type": "code",
   "execution_count": null,
   "id": "3e938bd6",
   "metadata": {},
   "outputs": [],
   "source": [
    "import pandas as pd\n",
    "\n",
    "df = pd.read_csv(r\"C:\\Users\\kamog\\Desktop\\Python-Assignment-Week-8\\owid-covid-data.csv\")\n",
    "\n",
    "df.head()\n",
    "import pandas as pd\n",
    "\n",
    "url = \"https://covid.ourworldindata.org/data/owid-covid-data.csv\"\n",
    "df = pd.read_csv(url)\n",
    "df.to_csv(\"owid-covid-data.csv\", index=False)  # optional: save locally\n",
    "df.head()\n",
    "df['date'] = pd.to_datetime(df['date'])\n"
   ]
  },
  {
   "cell_type": "markdown",
   "id": "0fe3273e",
   "metadata": {},
   "source": [
    "## 🔹 Explore Dataset"
   ]
  },
  {
   "cell_type": "code",
   "execution_count": null,
   "id": "7c2ee546",
   "metadata": {},
   "outputs": [],
   "source": [
    "df.info()\n",
    "df.describe()\n",
    "df.isnull().sum()"
   ]
  },
  {
   "cell_type": "markdown",
   "id": "2e319d85",
   "metadata": {},
   "source": [
    "## 🔹 Data Cleaning"
   ]
  },
  {
   "cell_type": "code",
   "execution_count": null,
   "id": "4717c684",
   "metadata": {},
   "outputs": [],
   "source": [
    "df['date'] = pd.to_datetime(df['date'])\n",
    "countries = ['South Africa', 'India', 'United States']\n",
    "df_filtered = df[df['location'].isin(countries)]\n",
    "df_filtered.fillna(method='ffill', inplace=True)"
   ]
  },
  {
   "cell_type": "markdown",
   "id": "009f053d",
   "metadata": {},
   "source": [
    "## 🔹 Total Cases Over Time"
   ]
  },
  {
   "cell_type": "code",
   "execution_count": null,
   "id": "95ebdd47",
   "metadata": {},
   "outputs": [],
   "source": [
    "import matplotlib.pyplot as plt\n",
    "\n",
    "# Select countries to analyze\n",
    "countries = ['South Africa', 'United States', 'India']\n",
    "\n",
    "# Filter main dataframe\n",
    "df_filtered = df[df['location'].isin(countries)]\n",
    "\n",
    "# Plot vaccination data\n",
    "plt.figure(figsize=(12, 6))\n",
    "\n",
    "for country in countries:\n",
    "    data = df_filtered[df_filtered['location'] == country]\n",
    "    plt.plot(data['date'], data['total_vaccinations'], label=country)\n",
    "\n",
    "plt.title(\"Total COVID-19 Vaccinations Over Time\")\n",
    "plt.xlabel(\"Date\")\n",
    "plt.ylabel(\"Total Vaccinations\")\n",
    "plt.legend()\n",
    "plt.xticks(rotation=45)\n",
    "plt.tight_layout()\n",
    "plt.show()\n"
   ]
  },
  {
   "cell_type": "markdown",
   "id": "e7dbd261",
   "metadata": {},
   "source": [
    "## 🔹 Death Rate"
   ]
  },
  {
   "cell_type": "code",
   "execution_count": null,
   "id": "18d7378c",
   "metadata": {},
   "outputs": [],
   "source": [
    "df_filtered['death_rate'] = df_filtered['total_deaths'] / df_filtered['total_cases']\n",
    "df_filtered[['location', 'date', 'death_rate']].dropna().head()"
   ]
  },
  {
   "cell_type": "markdown",
   "id": "3614bff7",
   "metadata": {},
   "source": [
    "## 🔹 Vaccination Progress"
   ]
  },
  {
   "cell_type": "code",
   "execution_count": null,
   "id": "85092f14",
   "metadata": {},
   "outputs": [],
   "source": [
    "import matplotlib.pyplot as plt\n",
    "\n",
    "# Select countries to analyze\n",
    "countries = ['South Africa', 'United States', 'India']\n",
    "\n",
    "# Filter main dataframe\n",
    "df_filtered = df[df['location'].isin(countries)]\n",
    "\n",
    "# Plot vaccination data\n",
    "plt.figure(figsize=(12, 6))\n",
    "\n",
    "for country in countries:\n",
    "    data = df_filtered[df_filtered['location'] == country]\n",
    "    plt.plot(data['date'], data['total_vaccinations'], label=country)\n",
    "\n",
    "plt.title(\"Total COVID-19 Vaccinations Over Time\")\n",
    "plt.xlabel(\"Date\")\n",
    "plt.ylabel(\"Total Vaccinations\")\n",
    "plt.legend()\n",
    "plt.xticks(rotation=45)\n",
    "plt.tight_layout()\n",
    "plt.show()\n"
   ]
  },
  {
   "cell_type": "markdown",
   "id": "8d10f346",
   "metadata": {},
   "source": [
    "## 🔹 Optional: Choropleth Map"
   ]
  },
  {
   "cell_type": "code",
   "execution_count": null,
   "id": "d68effd5",
   "metadata": {},
   "outputs": [],
   "source": [
    "latest = df[df['date'] == df['date'].max()]\n",
    "fig = px.choropleth(latest,\n",
    "                    locations='iso_code',\n",
    "                    color='total_cases',\n",
    "                    hover_name='location',\n",
    "                    color_continuous_scale='Reds',\n",
    "                    title='Global COVID-19 Total Cases')\n",
    "fig.show()"
   ]
  },
  {
   "cell_type": "markdown",
   "id": "59383152",
   "metadata": {},
   "source": [
    "## 📝 Key Insights\n",
    "- The United States had the highest total cases among selected countries.\n",
    "- South Africa showed steady vaccination progress.\n",
    "- India experienced a major spike in cases during 2021.\n"
   ]
  }
 ],
 "metadata": {
  "kernelspec": {
   "display_name": "Python 3 (ipykernel)",
   "language": "python",
   "name": "python3"
  },
  "language_info": {
   "codemirror_mode": {
    "name": "ipython",
    "version": 3
   },
   "file_extension": ".py",
   "mimetype": "text/x-python",
   "name": "python",
   "nbconvert_exporter": "python",
   "pygments_lexer": "ipython3",
   "version": "3.13.2"
  }
 },
 "nbformat": 4,
 "nbformat_minor": 5
}
